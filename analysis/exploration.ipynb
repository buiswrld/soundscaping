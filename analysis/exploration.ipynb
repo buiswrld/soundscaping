{
 "cells": [
  {
   "cell_type": "markdown",
   "metadata": {},
   "source": [
    "# Exploration\n",
    "#### Dedicated to purely exploring the data, observing trends, and seeing what quirks the datasets might uncover\n",
    "For larger trends and analyses on the dataset, visit `results.ipynb`"
   ]
  },
  {
   "cell_type": "code",
   "execution_count": 1,
   "metadata": {},
   "outputs": [],
   "source": [
    "from data.render import *\n",
    "from data.load import *\n",
    "from data.api import *"
   ]
  },
  {
   "cell_type": "markdown",
   "metadata": {},
   "source": [
    "## Section 1: Cross-Referencing Datasets & Examining Inconsistencies"
   ]
  },
  {
   "cell_type": "markdown",
   "metadata": {},
   "source": [
    "The first dataset we're observing consists of 5000 entries of albums rated by users on a platform called AOTY (albumoftheyear.org). The highest rated album on this platform is 2015's \"To Pimp a Butterfly\" by Kendrick Lamar, with a rating of 95/100. *(1)*"
   ]
  },
  {
   "cell_type": "code",
   "execution_count": 2,
   "metadata": {},
   "outputs": [
    {
     "data": {
      "text/html": [
       "<table border=\"1\" class=\"dataframe\">\n",
       "  <thead>\n",
       "    <tr style=\"text-align: right;\">\n",
       "      <th>rank</th>\n",
       "      <th>title</th>\n",
       "      <th>artist</th>\n",
       "      <th>release_date</th>\n",
       "      <th>genres</th>\n",
       "      <th>user_score</th>\n",
       "      <th>rating_count</th>\n",
       "      <th>album_link</th>\n",
       "    </tr>\n",
       "  </thead>\n",
       "  <tbody>\n",
       "    <tr>\n",
       "      <td>1</td>\n",
       "      <td>To Pimp a Butterfly</td>\n",
       "      <td>Kendrick Lamar</td>\n",
       "      <td>March 15, 2015</td>\n",
       "      <td>Conscious Hip Hop, Jazz Rap, West Coast Hip Hop</td>\n",
       "      <td>95</td>\n",
       "      <td>28,594 ratings</td>\n",
       "      <td>https://www.albumoftheyear.org/album/29250-kendrick-lamar-to-pimp-a-butterfly.php</td>\n",
       "    </tr>\n",
       "  </tbody>\n",
       "</table>"
      ],
      "text/plain": [
       "<IPython.core.display.HTML object>"
      ]
     },
     "metadata": {},
     "output_type": "display_data"
    }
   ],
   "source": [
    "show(get_rows(df_aoty, 0).to_frame().T)"
   ]
  },
  {
   "cell_type": "markdown",
   "metadata": {},
   "source": [
    "For curiosity's sake, let's examine the frequency of Kendrick Lamar entries within AOTY's top 5000 user-rated albums."
   ]
  },
  {
   "cell_type": "code",
   "execution_count": 3,
   "metadata": {},
   "outputs": [
    {
     "data": {
      "text/html": [
       "<table border=\"1\" class=\"dataframe\">\n",
       "  <thead>\n",
       "    <tr style=\"text-align: right;\">\n",
       "      <th>rank</th>\n",
       "      <th>title</th>\n",
       "      <th>artist</th>\n",
       "      <th>release_date</th>\n",
       "      <th>genres</th>\n",
       "      <th>user_score</th>\n",
       "      <th>rating_count</th>\n",
       "      <th>album_link</th>\n",
       "    </tr>\n",
       "  </thead>\n",
       "  <tbody>\n",
       "    <tr>\n",
       "      <td>1</td>\n",
       "      <td>To Pimp a Butterfly</td>\n",
       "      <td>Kendrick Lamar</td>\n",
       "      <td>March 15, 2015</td>\n",
       "      <td>Conscious Hip Hop, Jazz Rap, West Coast Hip Hop</td>\n",
       "      <td>95</td>\n",
       "      <td>28,594 ratings</td>\n",
       "      <td>https://www.albumoftheyear.org/album/29250-kendrick-lamar-to-pimp-a-butterfly.php</td>\n",
       "    </tr>\n",
       "    <tr>\n",
       "      <td>2</td>\n",
       "      <td>good kid, m.A.A.d city</td>\n",
       "      <td>Kendrick Lamar</td>\n",
       "      <td>October 22, 2012</td>\n",
       "      <td>Conscious Hip Hop, West Coast Hip Hop</td>\n",
       "      <td>94</td>\n",
       "      <td>22,283 ratings</td>\n",
       "      <td>https://www.albumoftheyear.org/album/3840-kendrick-lamar-good-kid-maad-city.php</td>\n",
       "    </tr>\n",
       "    <tr>\n",
       "      <td>399</td>\n",
       "      <td>Mr. Morale &amp; The Big Steppers</td>\n",
       "      <td>Kendrick Lamar</td>\n",
       "      <td>May 13, 2022</td>\n",
       "      <td>Conscious Hip Hop, West Coast Hip Hop</td>\n",
       "      <td>86</td>\n",
       "      <td>19,284 ratings</td>\n",
       "      <td>https://www.albumoftheyear.org/album/494992-kendrick-lamar-mr-morale-the-big-steppers.php</td>\n",
       "    </tr>\n",
       "    <tr>\n",
       "      <td>694</td>\n",
       "      <td>DAMN.</td>\n",
       "      <td>Kendrick Lamar</td>\n",
       "      <td>April 14, 2017</td>\n",
       "      <td>Conscious Hip Hop, West Coast Hip Hop</td>\n",
       "      <td>84</td>\n",
       "      <td>20,892 ratings</td>\n",
       "      <td>https://www.albumoftheyear.org/album/76870-kendrick-lamar-damn.php</td>\n",
       "    </tr>\n",
       "    <tr>\n",
       "      <td>2092</td>\n",
       "      <td>Section.80</td>\n",
       "      <td>Kendrick Lamar</td>\n",
       "      <td>July 2, 2011</td>\n",
       "      <td>Conscious Hip Hop, West Coast Hip Hop</td>\n",
       "      <td>81</td>\n",
       "      <td>10,653 ratings</td>\n",
       "      <td>https://www.albumoftheyear.org/album/2725-kendrick-lamar-section80.php</td>\n",
       "    </tr>\n",
       "  </tbody>\n",
       "</table>"
      ],
      "text/plain": [
       "<IPython.core.display.HTML object>"
      ]
     },
     "metadata": {},
     "output_type": "display_data"
    },
    {
     "name": "stdout",
     "output_type": "stream",
     "text": [
      "0.1% of albums by Kendrick Lamar exist in the T5000 rankings\n"
     ]
    }
   ],
   "source": [
    "show(filter(df_aoty, 'artist', 'Kendrick Lamar'))\n",
    "freq = count_occurrences(df_aoty, 'artist', 'Kendrick Lamar') / len(df_aoty) * 100\n",
    "print(f'{str(freq)}% of albums by Kendrick Lamar exist in the T5000 rankings')\n"
   ]
  },
  {
   "cell_type": "markdown",
   "metadata": {},
   "source": [
    "Although 0.1% sounds insignificant, every single one of Kendrick's studio albums makes the list, so by rater metrics on AOTY, he is a certainly a chart topper. It's even more impressive that two of his albums comprise the top 2 entries in the dataset.\n",
    "\n",
    "This is where we introduce the other dataset, Spotify's Top 200. This dataset is taken directly from Spotify and contains the top 200 most streamed songs, of all time. Unsurprisingly capping out the list is \"Blinding Lights\" by The Weeknd, a song which dominated the Covid-19 & post-Covid streaming era:"
   ]
  },
  {
   "cell_type": "code",
   "execution_count": 4,
   "metadata": {},
   "outputs": [
    {
     "data": {
      "text/html": [
       "<table border=\"1\" class=\"dataframe\">\n",
       "  <thead>\n",
       "    <tr style=\"text-align: right;\">\n",
       "      <th>rank</th>\n",
       "      <th>title</th>\n",
       "      <th>artist</th>\n",
       "      <th>top genre</th>\n",
       "      <th>year</th>\n",
       "      <th>beats.per.minute</th>\n",
       "      <th>energy</th>\n",
       "      <th>danceability</th>\n",
       "      <th>loudness.dB</th>\n",
       "      <th>liveness</th>\n",
       "      <th>valance</th>\n",
       "      <th>length</th>\n",
       "      <th>acousticness</th>\n",
       "      <th>speechiness</th>\n",
       "      <th>popularity</th>\n",
       "    </tr>\n",
       "  </thead>\n",
       "  <tbody>\n",
       "    <tr>\n",
       "      <td>1</td>\n",
       "      <td>Blinding Lights</td>\n",
       "      <td>The Weeknd</td>\n",
       "      <td>canadian contemporary r&amp;b</td>\n",
       "      <td>2020</td>\n",
       "      <td>171</td>\n",
       "      <td>73</td>\n",
       "      <td>51</td>\n",
       "      <td>-6</td>\n",
       "      <td>9</td>\n",
       "      <td>33</td>\n",
       "      <td>200</td>\n",
       "      <td>0</td>\n",
       "      <td>6</td>\n",
       "      <td>91</td>\n",
       "    </tr>\n",
       "  </tbody>\n",
       "</table>"
      ],
      "text/plain": [
       "<IPython.core.display.HTML object>"
      ]
     },
     "metadata": {},
     "output_type": "display_data"
    }
   ],
   "source": [
    "show(get_rows(df_top100s, 0).to_frame().T)"
   ]
  },
  {
   "cell_type": "markdown",
   "metadata": {},
   "source": [
    "But the reason I introduce the new dataset is I'm more interested in if AOTY's critic rankings match the general consensus of the public. That is, does \"To Pimp a Butterfly\" and \"good kid m.A.A.d city's chart performance match its critic acclaim? Let's observe the frequency of Kendrick Lamar in the top 200:"
   ]
  },
  {
   "cell_type": "code",
   "execution_count": 5,
   "metadata": {},
   "outputs": [
    {
     "data": {
      "text/html": [
       "<table border=\"1\" class=\"dataframe\">\n",
       "  <thead>\n",
       "    <tr style=\"text-align: right;\">\n",
       "      <th>rank</th>\n",
       "      <th>title</th>\n",
       "      <th>artist</th>\n",
       "      <th>top genre</th>\n",
       "      <th>year</th>\n",
       "      <th>beats.per.minute</th>\n",
       "      <th>energy</th>\n",
       "      <th>danceability</th>\n",
       "      <th>loudness.dB</th>\n",
       "      <th>liveness</th>\n",
       "      <th>valance</th>\n",
       "      <th>length</th>\n",
       "      <th>acousticness</th>\n",
       "      <th>speechiness</th>\n",
       "      <th>popularity</th>\n",
       "    </tr>\n",
       "  </thead>\n",
       "  <tbody>\n",
       "    <tr>\n",
       "      <td>46</td>\n",
       "      <td>HUMBLE.</td>\n",
       "      <td>Kendrick Lamar</td>\n",
       "      <td>conscious hip hop</td>\n",
       "      <td>2017</td>\n",
       "      <td>150</td>\n",
       "      <td>62</td>\n",
       "      <td>91</td>\n",
       "      <td>-7</td>\n",
       "      <td>10</td>\n",
       "      <td>42</td>\n",
       "      <td>177</td>\n",
       "      <td>0</td>\n",
       "      <td>10</td>\n",
       "      <td>81</td>\n",
       "    </tr>\n",
       "  </tbody>\n",
       "</table>"
      ],
      "text/plain": [
       "<IPython.core.display.HTML object>"
      ]
     },
     "metadata": {},
     "output_type": "display_data"
    }
   ],
   "source": [
    "show(filter(df_top100s, 'artist', 'Kendrick Lamar'))"
   ]
  },
  {
   "cell_type": "markdown",
   "metadata": {},
   "source": [
    "Observe that Kendrick Lamar's best work (according to critics) doesn't make it anywhere on the Spotify Top 200 chart: instead, we see \"HUMBLE\" - a 2017 track from \"DAMN\" which was rated 694th on AOTY. *(1)*"
   ]
  },
  {
   "cell_type": "markdown",
   "metadata": {},
   "source": [
    "This may suggest two different things. One possibility is that \"HUMBLE\" significantly outshines Kendrick Lamar's other work, but as a whole, \"DAMN\" is not that great of an album. Another possiblity is that the general public and the average critic do not agree on what makes good music. We need to dive deeper- we introduce a third and final component, Spotify's Web API: using their API endpoints for album metadata, we can find out if album popularity (according to Spotify metrics) align with critic rankings *(3)*"
   ]
  },
  {
   "cell_type": "code",
   "execution_count": 6,
   "metadata": {},
   "outputs": [
    {
     "data": {
      "text/html": [
       "<table border=\"1\" class=\"dataframe\">\n",
       "  <thead>\n",
       "    <tr style=\"text-align: right;\">\n",
       "      <th>relative_rank</th>\n",
       "      <th>title</th>\n",
       "      <th>popularity</th>\n",
       "    </tr>\n",
       "  </thead>\n",
       "  <tbody>\n",
       "    <tr>\n",
       "      <td>1</td>\n",
       "      <td>DAMN.</td>\n",
       "      <td>88</td>\n",
       "    </tr>\n",
       "    <tr>\n",
       "      <td>2</td>\n",
       "      <td>Mr. Morale &amp; The Big Steppers</td>\n",
       "      <td>83</td>\n",
       "    </tr>\n",
       "    <tr>\n",
       "      <td>3</td>\n",
       "      <td>To Pimp a Butterfly</td>\n",
       "      <td>80</td>\n",
       "    </tr>\n",
       "    <tr>\n",
       "      <td>4</td>\n",
       "      <td>good kid, m.A.A.d city</td>\n",
       "      <td>76</td>\n",
       "    </tr>\n",
       "    <tr>\n",
       "      <td>5</td>\n",
       "      <td>Section.80</td>\n",
       "      <td>74</td>\n",
       "    </tr>\n",
       "  </tbody>\n",
       "</table>"
      ],
      "text/plain": [
       "<IPython.core.display.HTML object>"
      ]
     },
     "metadata": {},
     "output_type": "display_data"
    }
   ],
   "source": [
    "kendrick_albums = filter(df_aoty, 'artist', 'Kendrick Lamar').copy()\n",
    "kendrick_albums.loc[:, 'popularity'] = kendrick_albums['title'].apply(lambda title: get_popularity(title))\n",
    "kendrick_albums_sorted = kendrick_albums.sort_values(by='popularity', ascending=False).reset_index(drop=True)\n",
    "kendrick_albums_sorted.insert(0, 'relative_rank', range(1, len(kendrick_albums_sorted) + 1))\n",
    "show(kendrick_albums_sorted[['relative_rank', 'title', 'popularity']])"
   ]
  },
  {
   "cell_type": "markdown",
   "metadata": {},
   "source": [
    "To demonstrate the difference, here's a table of the relative rankings for user reviews on AOTY:"
   ]
  },
  {
   "cell_type": "code",
   "execution_count": 7,
   "metadata": {},
   "outputs": [
    {
     "data": {
      "text/html": [
       "<table border=\"1\" class=\"dataframe\">\n",
       "  <thead>\n",
       "    <tr style=\"text-align: right;\">\n",
       "      <th>rank</th>\n",
       "      <th>title</th>\n",
       "      <th>user_score</th>\n",
       "    </tr>\n",
       "  </thead>\n",
       "  <tbody>\n",
       "    <tr>\n",
       "      <td>1</td>\n",
       "      <td>To Pimp a Butterfly</td>\n",
       "      <td>95</td>\n",
       "    </tr>\n",
       "    <tr>\n",
       "      <td>2</td>\n",
       "      <td>good kid, m.A.A.d city</td>\n",
       "      <td>94</td>\n",
       "    </tr>\n",
       "    <tr>\n",
       "      <td>3</td>\n",
       "      <td>Mr. Morale &amp; The Big Steppers</td>\n",
       "      <td>86</td>\n",
       "    </tr>\n",
       "    <tr>\n",
       "      <td>4</td>\n",
       "      <td>DAMN.</td>\n",
       "      <td>84</td>\n",
       "    </tr>\n",
       "    <tr>\n",
       "      <td>5</td>\n",
       "      <td>Section.80</td>\n",
       "      <td>81</td>\n",
       "    </tr>\n",
       "  </tbody>\n",
       "</table>"
      ],
      "text/plain": [
       "<IPython.core.display.HTML object>"
      ]
     },
     "metadata": {},
     "output_type": "display_data"
    }
   ],
   "source": [
    "albums = get_col(filter(df_aoty, 'artist', 'Kendrick Lamar'), 'title').T.to_frame()\n",
    "ratings = get_col(filter(df_aoty, 'artist', 'Kendrick Lamar'), 'user_score').T.to_frame()\n",
    "albums.insert(0, 'rank', range(1, len(albums) + 1))\n",
    "albums.insert(2, 'user_score', ratings)\n",
    "show(albums)"
   ]
  },
  {
   "cell_type": "markdown",
   "metadata": {},
   "source": [
    "The key discovery here is that critics (on AOTY) and the general public (Spotify users) do not necessarily agree on the ranking of albums. Popularity doesn't match the critic scores: in fact, besides \"Section.80\", the list almost appears flipped."
   ]
  },
  {
   "cell_type": "markdown",
   "metadata": {},
   "source": [
    "---"
   ]
  },
  {
   "cell_type": "markdown",
   "metadata": {},
   "source": [
    "## Section 2: Song Characteristics in the Charts"
   ]
  },
  {
   "cell_type": "markdown",
   "metadata": {},
   "source": [
    "The next section I'm exploring is if there's potentially a trend for what specific components makes a song popular. While there's likely to be the a handful of songs that become hits because of some other counfounding reason (memes, controversy, extraordinary promotion and industry push), I want to see if there's potentially some consistent ways to top the charts. For this, we will use Spotify's Top 100 songs dataset."
   ]
  },
  {
   "cell_type": "markdown",
   "metadata": {},
   "source": [
    "There are a few metrics of interest for this section. These include beats per minute, energy, danceability, among other things."
   ]
  },
  {
   "cell_type": "code",
   "execution_count": 8,
   "metadata": {},
   "outputs": [
    {
     "data": {
      "text/html": [
       "<table border=\"1\" class=\"dataframe\">\n",
       "  <thead>\n",
       "    <tr style=\"text-align: right;\">\n",
       "      <th>rank</th>\n",
       "      <th>title</th>\n",
       "      <th>artist</th>\n",
       "      <th>top genre</th>\n",
       "      <th>year</th>\n",
       "      <th>beats.per.minute</th>\n",
       "      <th>energy</th>\n",
       "      <th>danceability</th>\n",
       "      <th>loudness.dB</th>\n",
       "      <th>liveness</th>\n",
       "      <th>valance</th>\n",
       "      <th>length</th>\n",
       "      <th>acousticness</th>\n",
       "      <th>speechiness</th>\n",
       "      <th>popularity</th>\n",
       "    </tr>\n",
       "  </thead>\n",
       "  <tbody>\n",
       "    <tr>\n",
       "      <td>1</td>\n",
       "      <td>Blinding Lights</td>\n",
       "      <td>The Weeknd</td>\n",
       "      <td>canadian contemporary r&amp;b</td>\n",
       "      <td>2020</td>\n",
       "      <td>171</td>\n",
       "      <td>73</td>\n",
       "      <td>51</td>\n",
       "      <td>-6</td>\n",
       "      <td>9</td>\n",
       "      <td>33</td>\n",
       "      <td>200</td>\n",
       "      <td>0</td>\n",
       "      <td>6</td>\n",
       "      <td>91</td>\n",
       "    </tr>\n",
       "  </tbody>\n",
       "</table>"
      ],
      "text/plain": [
       "<IPython.core.display.HTML object>"
      ]
     },
     "metadata": {},
     "output_type": "display_data"
    }
   ],
   "source": [
    "show(get_rows(df_top100s, 0).to_frame().T)"
   ]
  },
  {
   "cell_type": "code",
   "execution_count": 9,
   "metadata": {},
   "outputs": [
    {
     "data": {
      "image/png": "[encoded data removed]",
      "text/plain": [
       "<Figure size 800x400 with 1 Axes>"
      ]
     },
     "metadata": {},
     "output_type": "display_data"
    }
   ],
   "source": [
    "plot(df_top100s, 'beats.per.minute', 'rank', reverse=True)"
   ]
  },
  {
   "cell_type": "markdown",
   "metadata": {},
   "source": [
    "Overall, there's not much consistency here: there is a lack of entries in the 150+ bpm range, but we can atribute this to a variety of factors: songs in that range aren't as common and songs might be interpreted in half-time (i.e. it could be that 160bpm = 80bpm for some entries). The #1 song (Blinding Lights) sits on the higher end of BPM, but its chart followers sit below 120 bpm. Not much here- we should explore something else:"
   ]
  },
  {
   "cell_type": "code",
   "execution_count": 10,
   "metadata": {},
   "outputs": [
    {
     "data": {
      "image/png": "[encoded data removed]",
      "text/plain": [
       "<Figure size 800x400 with 1 Axes>"
      ]
     },
     "metadata": {},
     "output_type": "display_data"
    }
   ],
   "source": [
    "plot(df_top100s, 'energy', 'rank', reverse=True)"
   ]
  },
  {
   "cell_type": "markdown",
   "metadata": {},
   "source": [
    "Here's a more interesting result. Almost none of the Top 100 songs have an energy below 30. There are only two entries with this characteristic, and one outlier entry has an energy of around 10. Let's crack down on the numbers a bit more. Note that Spotify uses a scale of 100 for their energy metric."
   ]
  },
  {
   "cell_type": "code",
   "execution_count": 11,
   "metadata": {},
   "outputs": [
    {
     "name": "stdout",
     "output_type": "stream",
     "text": [
      "78% of songs in the top 100 have an energy level above 50\n",
      "22% of songs in the top 100 have an energy level below or equal to 50\n"
     ]
    }
   ],
   "source": [
    "freq = split_proportion(df_top100s, 'energy', 50)\n",
    "print(f'{str(freq['above_split'])}% of songs in the top 100 have an energy level above 50')\n",
    "print(f'{str(freq['below_split'])}% of songs in the top 100 have an energy level below or equal to 50')"
   ]
  },
  {
   "cell_type": "markdown",
   "metadata": {},
   "source": [
    "Therefore, we attain a more concrete result: the most popular songs on Spotify tend to have a higher energy level."
   ]
  }
 ],
 "metadata": {
  "kernelspec": {
   "display_name": "env",
   "language": "python",
   "name": "python3"
  },
  "language_info": {
   "codemirror_mode": {
    "name": "ipython",
    "version": 3
   },
   "file_extension": ".py",
   "mimetype": "text/x-python",
   "name": "python",
   "nbconvert_exporter": "python",
   "pygments_lexer": "ipython3",
   "version": "3.12.7"
  }
 },
 "nbformat": 4,
 "nbformat_minor": 2
}
